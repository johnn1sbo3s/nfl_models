{
 "cells": [
  {
   "cell_type": "code",
   "execution_count": null,
   "metadata": {},
   "outputs": [],
   "source": [
    "from scripts.SeasonUpdater import *\n",
    "import threading"
   ]
  },
  {
   "cell_type": "code",
   "execution_count": null,
   "metadata": {},
   "outputs": [],
   "source": [
    "# Função para chamar atualiza_temporada com diferentes parâmetros\n",
    "def rodar_atualizacoes_concorrentes():\n",
    "    urls = [\n",
    "        'https://www.flashscore.com.br/futebol-americano/eua/nfl-2022-2023/resultados/',\n",
    "        'https://www.flashscore.com.br/futebol-americano/eua/nfl-2021-2022/resultados/',\n",
    "        'https://www.flashscore.com.br/futebol-americano/eua/nfl-2020-2021/resultados/',\n",
    "    ]\n",
    "    arquivos_csv = [\n",
    "        'data/NFL23.csv',\n",
    "        'data/NFL22.csv',\n",
    "        'data/NFL21.csv',\n",
    "    ]\n",
    "    limite = 500\n",
    "\n",
    "    # Criar as threads\n",
    "    threads = []\n",
    "    for url, arquivo_csv in zip(urls, arquivos_csv):\n",
    "        thread = threading.Thread(target=atualiza_temporada, args=(url, arquivo_csv, limite))\n",
    "        threads.append(thread)\n",
    "\n",
    "    # Iniciar as threads\n",
    "    for thread in threads:\n",
    "        thread.start()\n",
    "\n",
    "    # Esperar todas as threads terminarem\n",
    "    for thread in threads:\n",
    "        thread.join()\n",
    "\n",
    "# Chamar a função que executa as atualizações em threads\n",
    "rodar_atualizacoes_concorrentes()"
   ]
  }
 ],
 "metadata": {
  "kernelspec": {
   "display_name": "venv",
   "language": "python",
   "name": "python3"
  },
  "language_info": {
   "codemirror_mode": {
    "name": "ipython",
    "version": 3
   },
   "file_extension": ".py",
   "mimetype": "text/x-python",
   "name": "python",
   "nbconvert_exporter": "python",
   "pygments_lexer": "ipython3",
   "version": "3.10.7"
  },
  "orig_nbformat": 4
 },
 "nbformat": 4,
 "nbformat_minor": 2
}
