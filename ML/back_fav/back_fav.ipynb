{
 "cells": [
  {
   "cell_type": "code",
   "execution_count": 2,
   "metadata": {},
   "outputs": [],
   "source": [
    "import pandas as pd; pd.set_option('display.max_columns', None)\n",
    "import numpy as np\n",
    "import matplotlib.pyplot as plt\n",
    "import sys\n",
    "sys.path.append('../../scripts')\n",
    "from PreparaDataset import *"
   ]
  },
  {
   "cell_type": "code",
   "execution_count": 5,
   "metadata": {},
   "outputs": [],
   "source": [
    "data = pd.read_csv('../../data/NFL.csv')"
   ]
  },
  {
   "cell_type": "code",
   "execution_count": 12,
   "metadata": {},
   "outputs": [
    {
     "name": "stderr",
     "output_type": "stream",
     "text": [
      "c:\\Users\\johnn\\Documents\\venvs\\nfl_models\\ML\\back_fav\\../../scripts\\PreparaDataset.py:48: SettingWithCopyWarning: \n",
      "A value is trying to be set on a copy of a slice from a DataFrame.\n",
      "Try using .loc[row_indexer,col_indexer] = value instead\n",
      "\n",
      "See the caveats in the documentation: https://pandas.pydata.org/pandas-docs/stable/user_guide/indexing.html#returning-a-view-versus-a-copy\n",
      "  _df.loc[(_df['Home_Pts'] > _df['Away_Pts']), 'Back_Home'] = 1\n",
      "c:\\Users\\johnn\\Documents\\venvs\\nfl_models\\ML\\back_fav\\../../scripts\\PreparaDataset.py:52: SettingWithCopyWarning: \n",
      "A value is trying to be set on a copy of a slice from a DataFrame.\n",
      "Try using .loc[row_indexer,col_indexer] = value instead\n",
      "\n",
      "See the caveats in the documentation: https://pandas.pydata.org/pandas-docs/stable/user_guide/indexing.html#returning-a-view-versus-a-copy\n",
      "  _df.loc[(_df['Home_Pts'] < _df['Away_Pts']), 'Back_Away'] = 1\n",
      "c:\\Users\\johnn\\Documents\\venvs\\nfl_models\\ML\\back_fav\\../../scripts\\PreparaDataset.py:56: SettingWithCopyWarning: \n",
      "A value is trying to be set on a copy of a slice from a DataFrame.\n",
      "Try using .loc[row_indexer,col_indexer] = value instead\n",
      "\n",
      "See the caveats in the documentation: https://pandas.pydata.org/pandas-docs/stable/user_guide/indexing.html#returning-a-view-versus-a-copy\n",
      "  _df.loc[(_df['Home_Pts'] + _df['Away_Pts']) > _df['Over_Line'], 'Back_Over'] = 1\n",
      "c:\\Users\\johnn\\Documents\\venvs\\nfl_models\\ML\\back_fav\\../../scripts\\PreparaDataset.py:60: SettingWithCopyWarning: \n",
      "A value is trying to be set on a copy of a slice from a DataFrame.\n",
      "Try using .loc[row_indexer,col_indexer] = value instead\n",
      "\n",
      "See the caveats in the documentation: https://pandas.pydata.org/pandas-docs/stable/user_guide/indexing.html#returning-a-view-versus-a-copy\n",
      "  _df.loc[((_df['Home_Pts'] + _df['HA_Line'])) > _df['Away_Pts'], 'Back_HA_H'] = 1\n",
      "c:\\Users\\johnn\\Documents\\venvs\\nfl_models\\ML\\back_fav\\../../scripts\\PreparaDataset.py:78: SettingWithCopyWarning: \n",
      "A value is trying to be set on a copy of a slice from a DataFrame.\n",
      "Try using .loc[row_indexer,col_indexer] = value instead\n",
      "\n",
      "See the caveats in the documentation: https://pandas.pydata.org/pandas-docs/stable/user_guide/indexing.html#returning-a-view-versus-a-copy\n",
      "  _df['P(H)'] = 1 / _df['Odds_H']\n",
      "c:\\Users\\johnn\\Documents\\venvs\\nfl_models\\ML\\back_fav\\../../scripts\\PreparaDataset.py:79: SettingWithCopyWarning: \n",
      "A value is trying to be set on a copy of a slice from a DataFrame.\n",
      "Try using .loc[row_indexer,col_indexer] = value instead\n",
      "\n",
      "See the caveats in the documentation: https://pandas.pydata.org/pandas-docs/stable/user_guide/indexing.html#returning-a-view-versus-a-copy\n",
      "  _df['P(A)'] = 1 / _df['Odds_A']\n",
      "c:\\Users\\johnn\\Documents\\venvs\\nfl_models\\ML\\back_fav\\../../scripts\\PreparaDataset.py:80: SettingWithCopyWarning: \n",
      "A value is trying to be set on a copy of a slice from a DataFrame.\n",
      "Try using .loc[row_indexer,col_indexer] = value instead\n",
      "\n",
      "See the caveats in the documentation: https://pandas.pydata.org/pandas-docs/stable/user_guide/indexing.html#returning-a-view-versus-a-copy\n",
      "  _df['P(O)'] = 1 / _df['Odds_Over']\n",
      "c:\\Users\\johnn\\Documents\\venvs\\nfl_models\\ML\\back_fav\\../../scripts\\PreparaDataset.py:81: SettingWithCopyWarning: \n",
      "A value is trying to be set on a copy of a slice from a DataFrame.\n",
      "Try using .loc[row_indexer,col_indexer] = value instead\n",
      "\n",
      "See the caveats in the documentation: https://pandas.pydata.org/pandas-docs/stable/user_guide/indexing.html#returning-a-view-versus-a-copy\n",
      "  _df['P(U)'] = 1 / _df['Odds_Under']\n",
      "c:\\Users\\johnn\\Documents\\venvs\\nfl_models\\ML\\back_fav\\../../scripts\\PreparaDataset.py:83: SettingWithCopyWarning: \n",
      "A value is trying to be set on a copy of a slice from a DataFrame.\n",
      "Try using .loc[row_indexer,col_indexer] = value instead\n",
      "\n",
      "See the caveats in the documentation: https://pandas.pydata.org/pandas-docs/stable/user_guide/indexing.html#returning-a-view-versus-a-copy\n",
      "  _df['P_Diff'] = ((1 / _df['Odds_H']) + (1 / _df['Odds_A'])) - 1\n",
      "c:\\Users\\johnn\\Documents\\venvs\\nfl_models\\ML\\back_fav\\../../scripts\\PreparaDataset.py:85: SettingWithCopyWarning: \n",
      "A value is trying to be set on a copy of a slice from a DataFrame.\n",
      "Try using .loc[row_indexer,col_indexer] = value instead\n",
      "\n",
      "See the caveats in the documentation: https://pandas.pydata.org/pandas-docs/stable/user_guide/indexing.html#returning-a-view-versus-a-copy\n",
      "  _df['Porc_Over_Home'] = _df.groupby('Home')['Back_Over'].rolling(3).mean().reset_index(level=0, drop=True)\n",
      "c:\\Users\\johnn\\Documents\\venvs\\nfl_models\\ML\\back_fav\\../../scripts\\PreparaDataset.py:86: SettingWithCopyWarning: \n",
      "A value is trying to be set on a copy of a slice from a DataFrame.\n",
      "Try using .loc[row_indexer,col_indexer] = value instead\n",
      "\n",
      "See the caveats in the documentation: https://pandas.pydata.org/pandas-docs/stable/user_guide/indexing.html#returning-a-view-versus-a-copy\n",
      "  _df['Porc_Over_Away'] = _df.groupby('Away')['Back_Over'].rolling(3).mean().reset_index(level=0, drop=True)\n",
      "c:\\Users\\johnn\\Documents\\venvs\\nfl_models\\ML\\back_fav\\../../scripts\\PreparaDataset.py:87: SettingWithCopyWarning: \n",
      "A value is trying to be set on a copy of a slice from a DataFrame.\n",
      "Try using .loc[row_indexer,col_indexer] = value instead\n",
      "\n",
      "See the caveats in the documentation: https://pandas.pydata.org/pandas-docs/stable/user_guide/indexing.html#returning-a-view-versus-a-copy\n",
      "  _df['Porc_Over_Home']  = _df.groupby('Home')['Porc_Over_Home'].shift(1)\n",
      "c:\\Users\\johnn\\Documents\\venvs\\nfl_models\\ML\\back_fav\\../../scripts\\PreparaDataset.py:88: SettingWithCopyWarning: \n",
      "A value is trying to be set on a copy of a slice from a DataFrame.\n",
      "Try using .loc[row_indexer,col_indexer] = value instead\n",
      "\n",
      "See the caveats in the documentation: https://pandas.pydata.org/pandas-docs/stable/user_guide/indexing.html#returning-a-view-versus-a-copy\n",
      "  _df['Porc_Over_Away']  = _df.groupby('Away')['Porc_Over_Away'].shift(1)\n",
      "c:\\Users\\johnn\\Documents\\venvs\\nfl_models\\ML\\back_fav\\../../scripts\\PreparaDataset.py:89: SettingWithCopyWarning: \n",
      "A value is trying to be set on a copy of a slice from a DataFrame.\n",
      "Try using .loc[row_indexer,col_indexer] = value instead\n",
      "\n",
      "See the caveats in the documentation: https://pandas.pydata.org/pandas-docs/stable/user_guide/indexing.html#returning-a-view-versus-a-copy\n",
      "  _df['Porc_Over_Home'] = _df['Porc_Over_Home'].replace(np.nan, 0)\n",
      "c:\\Users\\johnn\\Documents\\venvs\\nfl_models\\ML\\back_fav\\../../scripts\\PreparaDataset.py:90: SettingWithCopyWarning: \n",
      "A value is trying to be set on a copy of a slice from a DataFrame.\n",
      "Try using .loc[row_indexer,col_indexer] = value instead\n",
      "\n",
      "See the caveats in the documentation: https://pandas.pydata.org/pandas-docs/stable/user_guide/indexing.html#returning-a-view-versus-a-copy\n",
      "  _df['Porc_Over_Away'] = _df['Porc_Over_Away'].replace(np.nan, 0)\n",
      "c:\\Users\\johnn\\Documents\\venvs\\nfl_models\\ML\\back_fav\\../../scripts\\PreparaDataset.py:94: SettingWithCopyWarning: \n",
      "A value is trying to be set on a copy of a slice from a DataFrame.\n",
      "Try using .loc[row_indexer,col_indexer] = value instead\n",
      "\n",
      "See the caveats in the documentation: https://pandas.pydata.org/pandas-docs/stable/user_guide/indexing.html#returning-a-view-versus-a-copy\n",
      "  _df['CustoGolHome'] = _df['Home_Pts'] / (1 / _df['Odds_H'])\n",
      "c:\\Users\\johnn\\Documents\\venvs\\nfl_models\\ML\\back_fav\\../../scripts\\PreparaDataset.py:95: SettingWithCopyWarning: \n",
      "A value is trying to be set on a copy of a slice from a DataFrame.\n",
      "Try using .loc[row_indexer,col_indexer] = value instead\n",
      "\n",
      "See the caveats in the documentation: https://pandas.pydata.org/pandas-docs/stable/user_guide/indexing.html#returning-a-view-versus-a-copy\n",
      "  _df['CustoGolAway'] = _df['Away_Pts'] / (1 / _df['Odds_A'])\n",
      "c:\\Users\\johnn\\Documents\\venvs\\nfl_models\\ML\\back_fav\\../../scripts\\PreparaDataset.py:96: SettingWithCopyWarning: \n",
      "A value is trying to be set on a copy of a slice from a DataFrame.\n",
      "Try using .loc[row_indexer,col_indexer] = value instead\n",
      "\n",
      "See the caveats in the documentation: https://pandas.pydata.org/pandas-docs/stable/user_guide/indexing.html#returning-a-view-versus-a-copy\n",
      "  _df['CustoGolHome'] = _df['CustoGolHome'].replace(np.inf, 0)\n",
      "c:\\Users\\johnn\\Documents\\venvs\\nfl_models\\ML\\back_fav\\../../scripts\\PreparaDataset.py:97: SettingWithCopyWarning: \n",
      "A value is trying to be set on a copy of a slice from a DataFrame.\n",
      "Try using .loc[row_indexer,col_indexer] = value instead\n",
      "\n",
      "See the caveats in the documentation: https://pandas.pydata.org/pandas-docs/stable/user_guide/indexing.html#returning-a-view-versus-a-copy\n",
      "  _df['CustoGolAway'] = _df['CustoGolAway'].replace(np.inf, 0)\n"
     ]
    }
   ],
   "source": [
    "dataframe = prepara_df(data)\n",
    "\n",
    "dataframe.loc[((dataframe['Odds_H'] < dataframe['Odds_A']) & (dataframe['Back_Home'] == 1)), 'Back_Favorito'] = 1\n",
    "dataframe.loc[((dataframe['Odds_H'] < dataframe['Odds_A']) & (dataframe['Back_Home'] == 0)), 'Back_Favorito'] = 0\n",
    "dataframe.loc[((dataframe['Odds_H'] > dataframe['Odds_A']) & (dataframe['Back_Away'] == 1)), 'Back_Favorito'] = 1\n",
    "dataframe.loc[((dataframe['Odds_H'] > dataframe['Odds_A']) & (dataframe['Back_Away'] == 0)), 'Back_Favorito'] = 0\n",
    "\n",
    "dataframe.loc[(dataframe['Odds_H'] <= dataframe['Odds_A']), 'odds'] = dataframe['Odds_H']\n",
    "dataframe.loc[(dataframe['Odds_H'] > dataframe['Odds_A']), 'odds'] = dataframe['Odds_A']\n",
    "\n",
    "# dataframe = dataframe[(dataframe['odds'] > 1.4)]\n",
    "\n",
    "dataframe.dropna(inplace=True)\n",
    "dataframe.reset_index(drop=True, inplace=True)"
   ]
  },
  {
   "cell_type": "code",
   "execution_count": 13,
   "metadata": {},
   "outputs": [
    {
     "name": "stdout",
     "output_type": "stream",
     "text": [
      "Odd média: 1.46 (0.69) | Média Back Home: 0.66\n",
      "Tamanho da amostra: 491\n"
     ]
    }
   ],
   "source": [
    "print(f'Odd média: {dataframe.odds.mean():.2f} ({1 / (dataframe.odds.mean()):.2f}) | Média Back Home: {dataframe.Back_Favorito.mean():.2f}')\n",
    "print(f'Tamanho da amostra: {dataframe.shape[0]}')"
   ]
  },
  {
   "cell_type": "code",
   "execution_count": 4,
   "metadata": {},
   "outputs": [
    {
     "name": "stdout",
     "output_type": "stream",
     "text": [
      "Treino: 150 | Validação: 336\n"
     ]
    }
   ],
   "source": [
    "div = len(dataframe)\n",
    "div = 150\n",
    "treino = dataframe.iloc[:div, :]\n",
    "val = dataframe.iloc[div: , :]\n",
    "\n",
    "print(f'Treino: {treino.shape[0]} | Validação: {val.shape[0]}')"
   ]
  },
  {
   "cell_type": "code",
   "execution_count": 167,
   "metadata": {},
   "outputs": [],
   "source": [
    "features = ['CV_Over', 'CV_ML', 'Acima_Last_CG_A', 'P(U)', 'Avg_CG_H']"
   ]
  },
  {
   "cell_type": "code",
   "execution_count": 168,
   "metadata": {},
   "outputs": [],
   "source": [
    "from pycaret.classification import *\n",
    "\n",
    "cls = setup(data = dataframe,\n",
    "            ignore_features = [x for x in dataframe.columns.to_list() if x not in features and x != 'Back_Favorito'],\n",
    "            target = 'Back_Favorito',\n",
    "            train_size = 0.4,\n",
    "            normalize = True,\n",
    "            normalize_method = 'zscore',\n",
    "            session_id = 2023,\n",
    "            verbose = False\n",
    "            )\n",
    "\n",
    "xtrain_treino = get_config('X_train')\n",
    "ytrain_treino = get_config('y_train')\n",
    "xtrain_teste = get_config('X_test')\n",
    "ytrain_teste = get_config('y_test')\n",
    "\n",
    "real_treino = pd.concat([xtrain_treino, ytrain_treino], axis=1)\n",
    "real_teste = pd.concat([xtrain_teste, ytrain_teste],  axis=1)"
   ]
  },
  {
   "cell_type": "code",
   "execution_count": null,
   "metadata": {},
   "outputs": [],
   "source": [
    "model = compare_models(sort = 'precision', cross_validation = False, include = ['lr', 'dt', 'et', 'knn', 'ridge', 'rf', 'rbfsvm', 'nb'])"
   ]
  },
  {
   "cell_type": "code",
   "execution_count": 169,
   "metadata": {},
   "outputs": [
    {
     "data": {
      "text/html": [],
      "text/plain": [
       "<IPython.core.display.HTML object>"
      ]
     },
     "metadata": {},
     "output_type": "display_data"
    },
    {
     "data": {
      "text/html": [
       "<style type=\"text/css\">\n",
       "#T_d4656_row10_col0, #T_d4656_row10_col1, #T_d4656_row10_col2, #T_d4656_row10_col3, #T_d4656_row10_col4, #T_d4656_row10_col5, #T_d4656_row10_col6, #T_d4656_row12_col0, #T_d4656_row12_col1, #T_d4656_row12_col2, #T_d4656_row12_col3, #T_d4656_row12_col4, #T_d4656_row12_col5, #T_d4656_row12_col6 {\n",
       "  background: yellow;\n",
       "}\n",
       "</style>\n",
       "<table id=\"T_d4656\">\n",
       "  <thead>\n",
       "    <tr>\n",
       "      <th class=\"blank\" >&nbsp;</th>\n",
       "      <th class=\"blank level0\" >&nbsp;</th>\n",
       "      <th id=\"T_d4656_level0_col0\" class=\"col_heading level0 col0\" >Accuracy</th>\n",
       "      <th id=\"T_d4656_level0_col1\" class=\"col_heading level0 col1\" >AUC</th>\n",
       "      <th id=\"T_d4656_level0_col2\" class=\"col_heading level0 col2\" >Recall</th>\n",
       "      <th id=\"T_d4656_level0_col3\" class=\"col_heading level0 col3\" >Prec.</th>\n",
       "      <th id=\"T_d4656_level0_col4\" class=\"col_heading level0 col4\" >F1</th>\n",
       "      <th id=\"T_d4656_level0_col5\" class=\"col_heading level0 col5\" >Kappa</th>\n",
       "      <th id=\"T_d4656_level0_col6\" class=\"col_heading level0 col6\" >MCC</th>\n",
       "    </tr>\n",
       "    <tr>\n",
       "      <th class=\"index_name level0\" >Split</th>\n",
       "      <th class=\"index_name level1\" >Fold</th>\n",
       "      <th class=\"blank col0\" >&nbsp;</th>\n",
       "      <th class=\"blank col1\" >&nbsp;</th>\n",
       "      <th class=\"blank col2\" >&nbsp;</th>\n",
       "      <th class=\"blank col3\" >&nbsp;</th>\n",
       "      <th class=\"blank col4\" >&nbsp;</th>\n",
       "      <th class=\"blank col5\" >&nbsp;</th>\n",
       "      <th class=\"blank col6\" >&nbsp;</th>\n",
       "    </tr>\n",
       "  </thead>\n",
       "  <tbody>\n",
       "    <tr>\n",
       "      <th id=\"T_d4656_level0_row0\" class=\"row_heading level0 row0\" rowspan=\"5\">CV-Train</th>\n",
       "      <th id=\"T_d4656_level1_row0\" class=\"row_heading level1 row0\" >0</th>\n",
       "      <td id=\"T_d4656_row0_col0\" class=\"data row0 col0\" >0.6923</td>\n",
       "      <td id=\"T_d4656_row0_col1\" class=\"data row0 col1\" >0.7176</td>\n",
       "      <td id=\"T_d4656_row0_col2\" class=\"data row0 col2\" >0.8738</td>\n",
       "      <td id=\"T_d4656_row0_col3\" class=\"data row0 col3\" >0.7200</td>\n",
       "      <td id=\"T_d4656_row0_col4\" class=\"data row0 col4\" >0.7895</td>\n",
       "      <td id=\"T_d4656_row0_col5\" class=\"data row0 col5\" >0.2373</td>\n",
       "      <td id=\"T_d4656_row0_col6\" class=\"data row0 col6\" >0.2533</td>\n",
       "    </tr>\n",
       "    <tr>\n",
       "      <th id=\"T_d4656_level1_row1\" class=\"row_heading level1 row1\" >1</th>\n",
       "      <td id=\"T_d4656_row1_col0\" class=\"data row1 col0\" >0.7134</td>\n",
       "      <td id=\"T_d4656_row1_col1\" class=\"data row1 col1\" >0.7173</td>\n",
       "      <td id=\"T_d4656_row1_col2\" class=\"data row1 col2\" >0.8932</td>\n",
       "      <td id=\"T_d4656_row1_col3\" class=\"data row1 col3\" >0.7302</td>\n",
       "      <td id=\"T_d4656_row1_col4\" class=\"data row1 col4\" >0.8035</td>\n",
       "      <td id=\"T_d4656_row1_col5\" class=\"data row1 col5\" >0.2933</td>\n",
       "      <td id=\"T_d4656_row1_col6\" class=\"data row1 col6\" >0.3145</td>\n",
       "    </tr>\n",
       "    <tr>\n",
       "      <th id=\"T_d4656_level1_row2\" class=\"row_heading level1 row2\" >2</th>\n",
       "      <td id=\"T_d4656_row2_col0\" class=\"data row2 col0\" >0.7134</td>\n",
       "      <td id=\"T_d4656_row2_col1\" class=\"data row2 col1\" >0.7168</td>\n",
       "      <td id=\"T_d4656_row2_col2\" class=\"data row2 col2\" >0.8932</td>\n",
       "      <td id=\"T_d4656_row2_col3\" class=\"data row2 col3\" >0.7302</td>\n",
       "      <td id=\"T_d4656_row2_col4\" class=\"data row2 col4\" >0.8035</td>\n",
       "      <td id=\"T_d4656_row2_col5\" class=\"data row2 col5\" >0.2933</td>\n",
       "      <td id=\"T_d4656_row2_col6\" class=\"data row2 col6\" >0.3145</td>\n",
       "    </tr>\n",
       "    <tr>\n",
       "      <th id=\"T_d4656_level1_row3\" class=\"row_heading level1 row3\" >3</th>\n",
       "      <td id=\"T_d4656_row3_col0\" class=\"data row3 col0\" >0.6943</td>\n",
       "      <td id=\"T_d4656_row3_col1\" class=\"data row3 col1\" >0.6877</td>\n",
       "      <td id=\"T_d4656_row3_col2\" class=\"data row3 col2\" >0.9029</td>\n",
       "      <td id=\"T_d4656_row3_col3\" class=\"data row3 col3\" >0.7099</td>\n",
       "      <td id=\"T_d4656_row3_col4\" class=\"data row3 col4\" >0.7949</td>\n",
       "      <td id=\"T_d4656_row3_col5\" class=\"data row3 col5\" >0.2272</td>\n",
       "      <td id=\"T_d4656_row3_col6\" class=\"data row3 col6\" >0.2546</td>\n",
       "    </tr>\n",
       "    <tr>\n",
       "      <th id=\"T_d4656_level1_row4\" class=\"row_heading level1 row4\" >4</th>\n",
       "      <td id=\"T_d4656_row4_col0\" class=\"data row4 col0\" >0.7261</td>\n",
       "      <td id=\"T_d4656_row4_col1\" class=\"data row4 col1\" >0.7297</td>\n",
       "      <td id=\"T_d4656_row4_col2\" class=\"data row4 col2\" >0.9038</td>\n",
       "      <td id=\"T_d4656_row4_col3\" class=\"data row4 col3\" >0.7402</td>\n",
       "      <td id=\"T_d4656_row4_col4\" class=\"data row4 col4\" >0.8139</td>\n",
       "      <td id=\"T_d4656_row4_col5\" class=\"data row4 col5\" >0.3147</td>\n",
       "      <td id=\"T_d4656_row4_col6\" class=\"data row4 col6\" >0.3382</td>\n",
       "    </tr>\n",
       "    <tr>\n",
       "      <th id=\"T_d4656_level0_row5\" class=\"row_heading level0 row5\" rowspan=\"5\">CV-Val</th>\n",
       "      <th id=\"T_d4656_level1_row5\" class=\"row_heading level1 row5\" >0</th>\n",
       "      <td id=\"T_d4656_row5_col0\" class=\"data row5 col0\" >0.7750</td>\n",
       "      <td id=\"T_d4656_row5_col1\" class=\"data row5 col1\" >0.6703</td>\n",
       "      <td id=\"T_d4656_row5_col2\" class=\"data row5 col2\" >0.9615</td>\n",
       "      <td id=\"T_d4656_row5_col3\" class=\"data row5 col3\" >0.7576</td>\n",
       "      <td id=\"T_d4656_row5_col4\" class=\"data row5 col4\" >0.8475</td>\n",
       "      <td id=\"T_d4656_row5_col5\" class=\"data row5 col5\" >0.4410</td>\n",
       "      <td id=\"T_d4656_row5_col6\" class=\"data row5 col6\" >0.4897</td>\n",
       "    </tr>\n",
       "    <tr>\n",
       "      <th id=\"T_d4656_level1_row6\" class=\"row_heading level1 row6\" >1</th>\n",
       "      <td id=\"T_d4656_row6_col0\" class=\"data row6 col0\" >0.6667</td>\n",
       "      <td id=\"T_d4656_row6_col1\" class=\"data row6 col1\" >0.6716</td>\n",
       "      <td id=\"T_d4656_row6_col2\" class=\"data row6 col2\" >0.8846</td>\n",
       "      <td id=\"T_d4656_row6_col3\" class=\"data row6 col3\" >0.6970</td>\n",
       "      <td id=\"T_d4656_row6_col4\" class=\"data row6 col4\" >0.7797</td>\n",
       "      <td id=\"T_d4656_row6_col5\" class=\"data row6 col5\" >0.1333</td>\n",
       "      <td id=\"T_d4656_row6_col6\" class=\"data row6 col6\" >0.1508</td>\n",
       "    </tr>\n",
       "    <tr>\n",
       "      <th id=\"T_d4656_level1_row7\" class=\"row_heading level1 row7\" >2</th>\n",
       "      <td id=\"T_d4656_row7_col0\" class=\"data row7 col0\" >0.6923</td>\n",
       "      <td id=\"T_d4656_row7_col1\" class=\"data row7 col1\" >0.7012</td>\n",
       "      <td id=\"T_d4656_row7_col2\" class=\"data row7 col2\" >0.8077</td>\n",
       "      <td id=\"T_d4656_row7_col3\" class=\"data row7 col3\" >0.7500</td>\n",
       "      <td id=\"T_d4656_row7_col4\" class=\"data row7 col4\" >0.7778</td>\n",
       "      <td id=\"T_d4656_row7_col5\" class=\"data row7 col5\" >0.2800</td>\n",
       "      <td id=\"T_d4656_row7_col6\" class=\"data row7 col6\" >0.2820</td>\n",
       "    </tr>\n",
       "    <tr>\n",
       "      <th id=\"T_d4656_level1_row8\" class=\"row_heading level1 row8\" >3</th>\n",
       "      <td id=\"T_d4656_row8_col0\" class=\"data row8 col0\" >0.7179</td>\n",
       "      <td id=\"T_d4656_row8_col1\" class=\"data row8 col1\" >0.8047</td>\n",
       "      <td id=\"T_d4656_row8_col2\" class=\"data row8 col2\" >0.9231</td>\n",
       "      <td id=\"T_d4656_row8_col3\" class=\"data row8 col3\" >0.7273</td>\n",
       "      <td id=\"T_d4656_row8_col4\" class=\"data row8 col4\" >0.8136</td>\n",
       "      <td id=\"T_d4656_row8_col5\" class=\"data row8 col5\" >0.2667</td>\n",
       "      <td id=\"T_d4656_row8_col6\" class=\"data row8 col6\" >0.3015</td>\n",
       "    </tr>\n",
       "    <tr>\n",
       "      <th id=\"T_d4656_level1_row9\" class=\"row_heading level1 row9\" >4</th>\n",
       "      <td id=\"T_d4656_row9_col0\" class=\"data row9 col0\" >0.6410</td>\n",
       "      <td id=\"T_d4656_row9_col1\" class=\"data row9 col1\" >0.5700</td>\n",
       "      <td id=\"T_d4656_row9_col2\" class=\"data row9 col2\" >0.8800</td>\n",
       "      <td id=\"T_d4656_row9_col3\" class=\"data row9 col3\" >0.6667</td>\n",
       "      <td id=\"T_d4656_row9_col4\" class=\"data row9 col4\" >0.7586</td>\n",
       "      <td id=\"T_d4656_row9_col5\" class=\"data row9 col5\" >0.1078</td>\n",
       "      <td id=\"T_d4656_row9_col6\" class=\"data row9 col6\" >0.1254</td>\n",
       "    </tr>\n",
       "    <tr>\n",
       "      <th id=\"T_d4656_level0_row10\" class=\"row_heading level0 row10\" rowspan=\"2\">CV-Train</th>\n",
       "      <th id=\"T_d4656_level1_row10\" class=\"row_heading level1 row10\" >Mean</th>\n",
       "      <td id=\"T_d4656_row10_col0\" class=\"data row10 col0\" >0.7079</td>\n",
       "      <td id=\"T_d4656_row10_col1\" class=\"data row10 col1\" >0.7138</td>\n",
       "      <td id=\"T_d4656_row10_col2\" class=\"data row10 col2\" >0.8934</td>\n",
       "      <td id=\"T_d4656_row10_col3\" class=\"data row10 col3\" >0.7261</td>\n",
       "      <td id=\"T_d4656_row10_col4\" class=\"data row10 col4\" >0.8010</td>\n",
       "      <td id=\"T_d4656_row10_col5\" class=\"data row10 col5\" >0.2732</td>\n",
       "      <td id=\"T_d4656_row10_col6\" class=\"data row10 col6\" >0.2950</td>\n",
       "    </tr>\n",
       "    <tr>\n",
       "      <th id=\"T_d4656_level1_row11\" class=\"row_heading level1 row11\" >Std</th>\n",
       "      <td id=\"T_d4656_row11_col0\" class=\"data row11 col0\" >0.0128</td>\n",
       "      <td id=\"T_d4656_row11_col1\" class=\"data row11 col1\" >0.0139</td>\n",
       "      <td id=\"T_d4656_row11_col2\" class=\"data row11 col2\" >0.0108</td>\n",
       "      <td id=\"T_d4656_row11_col3\" class=\"data row11 col3\" >0.0103</td>\n",
       "      <td id=\"T_d4656_row11_col4\" class=\"data row11 col4\" >0.0083</td>\n",
       "      <td id=\"T_d4656_row11_col5\" class=\"data row11 col5\" >0.0344</td>\n",
       "      <td id=\"T_d4656_row11_col6\" class=\"data row11 col6\" >0.0347</td>\n",
       "    </tr>\n",
       "    <tr>\n",
       "      <th id=\"T_d4656_level0_row12\" class=\"row_heading level0 row12\" rowspan=\"2\">CV-Val</th>\n",
       "      <th id=\"T_d4656_level1_row12\" class=\"row_heading level1 row12\" >Mean</th>\n",
       "      <td id=\"T_d4656_row12_col0\" class=\"data row12 col0\" >0.6986</td>\n",
       "      <td id=\"T_d4656_row12_col1\" class=\"data row12 col1\" >0.6836</td>\n",
       "      <td id=\"T_d4656_row12_col2\" class=\"data row12 col2\" >0.8914</td>\n",
       "      <td id=\"T_d4656_row12_col3\" class=\"data row12 col3\" >0.7197</td>\n",
       "      <td id=\"T_d4656_row12_col4\" class=\"data row12 col4\" >0.7954</td>\n",
       "      <td id=\"T_d4656_row12_col5\" class=\"data row12 col5\" >0.2458</td>\n",
       "      <td id=\"T_d4656_row12_col6\" class=\"data row12 col6\" >0.2699</td>\n",
       "    </tr>\n",
       "    <tr>\n",
       "      <th id=\"T_d4656_level1_row13\" class=\"row_heading level1 row13\" >Std</th>\n",
       "      <td id=\"T_d4656_row13_col0\" class=\"data row13 col0\" >0.0460</td>\n",
       "      <td id=\"T_d4656_row13_col1\" class=\"data row13 col1\" >0.0751</td>\n",
       "      <td id=\"T_d4656_row13_col2\" class=\"data row13 col2\" >0.0512</td>\n",
       "      <td id=\"T_d4656_row13_col3\" class=\"data row13 col3\" >0.0339</td>\n",
       "      <td id=\"T_d4656_row13_col4\" class=\"data row13 col4\" >0.0315</td>\n",
       "      <td id=\"T_d4656_row13_col5\" class=\"data row13 col5\" >0.1195</td>\n",
       "      <td id=\"T_d4656_row13_col6\" class=\"data row13 col6\" >0.1300</td>\n",
       "    </tr>\n",
       "    <tr>\n",
       "      <th id=\"T_d4656_level0_row14\" class=\"row_heading level0 row14\" >Train</th>\n",
       "      <th id=\"T_d4656_level1_row14\" class=\"row_heading level1 row14\" >nan</th>\n",
       "      <td id=\"T_d4656_row14_col0\" class=\"data row14 col0\" >0.7041</td>\n",
       "      <td id=\"T_d4656_row14_col1\" class=\"data row14 col1\" >0.7120</td>\n",
       "      <td id=\"T_d4656_row14_col2\" class=\"data row14 col2\" >0.8915</td>\n",
       "      <td id=\"T_d4656_row14_col3\" class=\"data row14 col3\" >0.7233</td>\n",
       "      <td id=\"T_d4656_row14_col4\" class=\"data row14 col4\" >0.7986</td>\n",
       "      <td id=\"T_d4656_row14_col5\" class=\"data row14 col5\" >0.2631</td>\n",
       "      <td id=\"T_d4656_row14_col6\" class=\"data row14 col6\" >0.2845</td>\n",
       "    </tr>\n",
       "  </tbody>\n",
       "</table>\n"
      ],
      "text/plain": [
       "<pandas.io.formats.style.Styler at 0x1bcec542c50>"
      ]
     },
     "metadata": {},
     "output_type": "display_data"
    },
    {
     "data": {
      "application/vnd.jupyter.widget-view+json": {
       "model_id": "00d37297900c475a8908c1dd6870fd54",
       "version_major": 2,
       "version_minor": 0
      },
      "text/plain": [
       "Processing:   0%|          | 0/4 [00:00<?, ?it/s]"
      ]
     },
     "metadata": {},
     "output_type": "display_data"
    }
   ],
   "source": [
    "model = create_model('lr', fold=5, return_train_score=True)"
   ]
  },
  {
   "cell_type": "code",
   "execution_count": 242,
   "metadata": {},
   "outputs": [],
   "source": [
    "def info_modelo(modelo, data=None):\n",
    "    if data is None:\n",
    "        pred = predict_model(modelo, verbose = False)\n",
    "    else:\n",
    "        pred = predict_model(modelo, data, verbose = False)\n",
    "\n",
    "    pred = pred.merge(dataframe['odds'], left_index=True, right_index=True, how='left')\n",
    "    if 'odds_x' in pred.columns.tolist():\n",
    "        pred.rename(columns={'odds_x': 'odds'}, inplace=True)\n",
    "        pred.drop(columns='odds_y', inplace=True)\n",
    "    \n",
    "    stake = 1\n",
    "\n",
    "    total = pred.shape[0]\n",
    "\n",
    "    # Filtro 1\n",
    "    # pred = pred[(pred['CV_ML'] >= 0.4) | (pred['CV_ML'] <= 0.2)]\n",
    "    # pred = pred[(pred['prediction_score'] >= 0.7)]\n",
    "    # pred = pred[(pred['Avg_CG_H'] >= 60) | (pred['Avg_CG_H'] < 50)]\n",
    "\n",
    "    # Filtro 2\n",
    "    # pred = pred[(pred['CV_ML'] >= 0.6)]\n",
    "    # pred = pred[(pred['prediction_score'] >= 0.7)]\n",
    "    # pred = pred[(pred['Avg_CG_H'] >= 60) | (pred['Avg_CG_H'] < 50)]\n",
    "    \n",
    "    # Filtro 3\n",
    "    pred = pred[(pred['CV_ML'] >= 0.6)]\n",
    "    pred = pred[(pred['prediction_score'] >= 0.7)]\n",
    "    pred = pred[(pred['Avg_CG_H'] >= 60) | (pred['Avg_CG_H'] < 50)]\n",
    "    pred = pred[(pred['odds'] >= 1.15)]\n",
    "\n",
    "    pred.loc[(pred['Back_Favorito'] == 0), 'PL_BF_Predictions'] = - stake\n",
    "    pred.loc[(pred['Back_Favorito'] == 1), 'PL_BF_Predictions'] = ((pred['odds']) - 1) * stake\n",
    "    \n",
    "    reserva = pred.copy()\n",
    "    pred = pred[(pred['prediction_label'] == 1)]\n",
    "\n",
    "    plb = pred['PL_BF_Predictions'].sum()\n",
    "    entradas = pred[pred['prediction_label'] == 1].shape[0]\n",
    "    wr = round((pred[pred['Back_Favorito'] == 1].shape[0] / entradas), 2)\n",
    "    oddback = pred['odds'].mean()\n",
    "    med_gain = pred[pred['Back_Favorito'] == 1]['PL_BF_Predictions'].mean()\n",
    "    med_loss = pred[pred['Back_Favorito'] == 0]['PL_BF_Predictions'].mean()\n",
    "    roi = plb / entradas\n",
    "    porc_ent = entradas / total\n",
    "    ev = (wr*stake*med_gain) + ((1-wr)*med_loss*stake)\n",
    "    print(f'PL: {plb:.2f} | ROI: {100*roi:.2f}% | Prec.: {wr:.2f}')\n",
    "    print(f'Odd média: {oddback:.2f}')\n",
    "    print(f'Média Gain: {med_gain:.2f} | Média Loss: {med_loss:.2f}')\n",
    "    print(f'EM: {ev:.2f}')\n",
    "    print(f'{entradas} entradas em {total} jogos ({100*porc_ent:.2f}%)')\n",
    "\n",
    "    pred.reset_index(drop=True, inplace=True)\n",
    "    pred.sort_index(inplace=True)\n",
    "    pred['hbacu'] = pred['PL_BF_Predictions'].cumsum()\n",
    "    pred = pred[pred['prediction_label'] == 1]\n",
    "\n",
    "    pred['hbacu'].plot.line(figsize=(6,2))\n",
    "\n",
    "    return pred"
   ]
  },
  {
   "cell_type": "code",
   "execution_count": null,
   "metadata": {},
   "outputs": [],
   "source": [
    "# tuned = tune_model(model, fold=5, optimize='precision', return_train_score=True, search_library='optuna', search_algorithm='tpe', n_iter=20)"
   ]
  },
  {
   "cell_type": "markdown",
   "metadata": {},
   "source": [
    "# Modelo base"
   ]
  },
  {
   "cell_type": "code",
   "execution_count": 211,
   "metadata": {},
   "outputs": [
    {
     "name": "stdout",
     "output_type": "stream",
     "text": [
      "PL: 3.98 | ROI: 12.84% | Prec.: 0.90\n",
      "Odd média: 1.25\n",
      "Média Gain: 0.25 | Média Loss: -1.00\n",
      "EM: 0.12\n",
      "31 entradas em 196 jogos (15.82%)\n"
     ]
    },
    {
     "data": {
      "image/png": "[encoded data removed]",
      "text/plain": [
       "<Figure size 600x200 with 1 Axes>"
      ]
     },
     "metadata": {},
     "output_type": "display_data"
    }
   ],
   "source": [
    "df_treino = info_modelo(model, real_treino)"
   ]
  },
  {
   "cell_type": "code",
   "execution_count": 233,
   "metadata": {},
   "outputs": [
    {
     "name": "stdout",
     "output_type": "stream",
     "text": [
      "PL: 2.97 | ROI: 6.60% | Prec.: 0.87\n",
      "Odd média: 1.23\n",
      "Média Gain: 0.23 | Média Loss: -1.00\n",
      "EM: 0.07\n",
      "45 entradas em 295 jogos (15.25%)\n"
     ]
    },
    {
     "data": {
      "image/png": "[encoded data removed]",
      "text/plain": [
       "<Figure size 600x200 with 1 Axes>"
      ]
     },
     "metadata": {},
     "output_type": "display_data"
    }
   ],
   "source": [
    "df_teste = info_modelo(model, real_teste)"
   ]
  },
  {
   "cell_type": "code",
   "execution_count": 214,
   "metadata": {},
   "outputs": [
    {
     "name": "stdout",
     "output_type": "stream",
     "text": [
      "PL: 6.95 | ROI: 9.14% | Prec.: 0.88\n",
      "Odd média: 1.24\n",
      "Média Gain: 0.24 | Média Loss: -1.00\n",
      "EM: 0.09\n",
      "76 entradas em 491 jogos (15.48%)\n"
     ]
    },
    {
     "data": {
      "image/png": "[encoded data removed]",
      "text/plain": [
       "<Figure size 600x200 with 1 Axes>"
      ]
     },
     "metadata": {},
     "output_type": "display_data"
    }
   ],
   "source": [
    "df_comp = info_modelo(model, dataframe)"
   ]
  },
  {
   "cell_type": "markdown",
   "metadata": {},
   "source": [
    "# Ensembled"
   ]
  },
  {
   "cell_type": "code",
   "execution_count": 181,
   "metadata": {},
   "outputs": [
    {
     "data": {
      "text/html": [],
      "text/plain": [
       "<IPython.core.display.HTML object>"
      ]
     },
     "metadata": {},
     "output_type": "display_data"
    },
    {
     "data": {
      "text/html": [
       "<style type=\"text/css\">\n",
       "#T_c285d_row10_col0, #T_c285d_row10_col1, #T_c285d_row10_col2, #T_c285d_row10_col3, #T_c285d_row10_col4, #T_c285d_row10_col5, #T_c285d_row10_col6, #T_c285d_row12_col0, #T_c285d_row12_col1, #T_c285d_row12_col2, #T_c285d_row12_col3, #T_c285d_row12_col4, #T_c285d_row12_col5, #T_c285d_row12_col6 {\n",
       "  background: yellow;\n",
       "}\n",
       "</style>\n",
       "<table id=\"T_c285d\">\n",
       "  <thead>\n",
       "    <tr>\n",
       "      <th class=\"blank\" >&nbsp;</th>\n",
       "      <th class=\"blank level0\" >&nbsp;</th>\n",
       "      <th id=\"T_c285d_level0_col0\" class=\"col_heading level0 col0\" >Accuracy</th>\n",
       "      <th id=\"T_c285d_level0_col1\" class=\"col_heading level0 col1\" >AUC</th>\n",
       "      <th id=\"T_c285d_level0_col2\" class=\"col_heading level0 col2\" >Recall</th>\n",
       "      <th id=\"T_c285d_level0_col3\" class=\"col_heading level0 col3\" >Prec.</th>\n",
       "      <th id=\"T_c285d_level0_col4\" class=\"col_heading level0 col4\" >F1</th>\n",
       "      <th id=\"T_c285d_level0_col5\" class=\"col_heading level0 col5\" >Kappa</th>\n",
       "      <th id=\"T_c285d_level0_col6\" class=\"col_heading level0 col6\" >MCC</th>\n",
       "    </tr>\n",
       "    <tr>\n",
       "      <th class=\"index_name level0\" >Split</th>\n",
       "      <th class=\"index_name level1\" >Fold</th>\n",
       "      <th class=\"blank col0\" >&nbsp;</th>\n",
       "      <th class=\"blank col1\" >&nbsp;</th>\n",
       "      <th class=\"blank col2\" >&nbsp;</th>\n",
       "      <th class=\"blank col3\" >&nbsp;</th>\n",
       "      <th class=\"blank col4\" >&nbsp;</th>\n",
       "      <th class=\"blank col5\" >&nbsp;</th>\n",
       "      <th class=\"blank col6\" >&nbsp;</th>\n",
       "    </tr>\n",
       "  </thead>\n",
       "  <tbody>\n",
       "    <tr>\n",
       "      <th id=\"T_c285d_level0_row0\" class=\"row_heading level0 row0\" rowspan=\"5\">CV-Train</th>\n",
       "      <th id=\"T_c285d_level1_row0\" class=\"row_heading level1 row0\" >0</th>\n",
       "      <td id=\"T_c285d_row0_col0\" class=\"data row0 col0\" >0.6923</td>\n",
       "      <td id=\"T_c285d_row0_col1\" class=\"data row0 col1\" >0.7171</td>\n",
       "      <td id=\"T_c285d_row0_col2\" class=\"data row0 col2\" >0.8932</td>\n",
       "      <td id=\"T_c285d_row0_col3\" class=\"data row0 col3\" >0.7132</td>\n",
       "      <td id=\"T_c285d_row0_col4\" class=\"data row0 col4\" >0.7931</td>\n",
       "      <td id=\"T_c285d_row0_col5\" class=\"data row0 col5\" >0.2215</td>\n",
       "      <td id=\"T_c285d_row0_col6\" class=\"data row0 col6\" >0.2442</td>\n",
       "    </tr>\n",
       "    <tr>\n",
       "      <th id=\"T_c285d_level1_row1\" class=\"row_heading level1 row1\" >1</th>\n",
       "      <td id=\"T_c285d_row1_col0\" class=\"data row1 col0\" >0.7134</td>\n",
       "      <td id=\"T_c285d_row1_col1\" class=\"data row1 col1\" >0.7158</td>\n",
       "      <td id=\"T_c285d_row1_col2\" class=\"data row1 col2\" >0.8932</td>\n",
       "      <td id=\"T_c285d_row1_col3\" class=\"data row1 col3\" >0.7302</td>\n",
       "      <td id=\"T_c285d_row1_col4\" class=\"data row1 col4\" >0.8035</td>\n",
       "      <td id=\"T_c285d_row1_col5\" class=\"data row1 col5\" >0.2933</td>\n",
       "      <td id=\"T_c285d_row1_col6\" class=\"data row1 col6\" >0.3145</td>\n",
       "    </tr>\n",
       "    <tr>\n",
       "      <th id=\"T_c285d_level1_row2\" class=\"row_heading level1 row2\" >2</th>\n",
       "      <td id=\"T_c285d_row2_col0\" class=\"data row2 col0\" >0.7197</td>\n",
       "      <td id=\"T_c285d_row2_col1\" class=\"data row2 col1\" >0.7123</td>\n",
       "      <td id=\"T_c285d_row2_col2\" class=\"data row2 col2\" >0.9029</td>\n",
       "      <td id=\"T_c285d_row2_col3\" class=\"data row2 col3\" >0.7323</td>\n",
       "      <td id=\"T_c285d_row2_col4\" class=\"data row2 col4\" >0.8087</td>\n",
       "      <td id=\"T_c285d_row2_col5\" class=\"data row2 col5\" >0.3056</td>\n",
       "      <td id=\"T_c285d_row2_col6\" class=\"data row2 col6\" >0.3302</td>\n",
       "    </tr>\n",
       "    <tr>\n",
       "      <th id=\"T_c285d_level1_row3\" class=\"row_heading level1 row3\" >3</th>\n",
       "      <td id=\"T_c285d_row3_col0\" class=\"data row3 col0\" >0.7006</td>\n",
       "      <td id=\"T_c285d_row3_col1\" class=\"data row3 col1\" >0.6843</td>\n",
       "      <td id=\"T_c285d_row3_col2\" class=\"data row3 col2\" >0.9126</td>\n",
       "      <td id=\"T_c285d_row3_col3\" class=\"data row3 col3\" >0.7121</td>\n",
       "      <td id=\"T_c285d_row3_col4\" class=\"data row3 col4\" >0.8000</td>\n",
       "      <td id=\"T_c285d_row3_col5\" class=\"data row3 col5\" >0.2395</td>\n",
       "      <td id=\"T_c285d_row3_col6\" class=\"data row3 col6\" >0.2712</td>\n",
       "    </tr>\n",
       "    <tr>\n",
       "      <th id=\"T_c285d_level1_row4\" class=\"row_heading level1 row4\" >4</th>\n",
       "      <td id=\"T_c285d_row4_col0\" class=\"data row4 col0\" >0.7389</td>\n",
       "      <td id=\"T_c285d_row4_col1\" class=\"data row4 col1\" >0.7304</td>\n",
       "      <td id=\"T_c285d_row4_col2\" class=\"data row4 col2\" >0.9135</td>\n",
       "      <td id=\"T_c285d_row4_col3\" class=\"data row4 col3\" >0.7480</td>\n",
       "      <td id=\"T_c285d_row4_col4\" class=\"data row4 col4\" >0.8225</td>\n",
       "      <td id=\"T_c285d_row4_col5\" class=\"data row4 col5\" >0.3466</td>\n",
       "      <td id=\"T_c285d_row4_col6\" class=\"data row4 col6\" >0.3725</td>\n",
       "    </tr>\n",
       "    <tr>\n",
       "      <th id=\"T_c285d_level0_row5\" class=\"row_heading level0 row5\" rowspan=\"5\">CV-Val</th>\n",
       "      <th id=\"T_c285d_level1_row5\" class=\"row_heading level1 row5\" >0</th>\n",
       "      <td id=\"T_c285d_row5_col0\" class=\"data row5 col0\" >0.7250</td>\n",
       "      <td id=\"T_c285d_row5_col1\" class=\"data row5 col1\" >0.6703</td>\n",
       "      <td id=\"T_c285d_row5_col2\" class=\"data row5 col2\" >0.9231</td>\n",
       "      <td id=\"T_c285d_row5_col3\" class=\"data row5 col3\" >0.7273</td>\n",
       "      <td id=\"T_c285d_row5_col4\" class=\"data row5 col4\" >0.8136</td>\n",
       "      <td id=\"T_c285d_row5_col5\" class=\"data row5 col5\" >0.3168</td>\n",
       "      <td id=\"T_c285d_row5_col6\" class=\"data row5 col6\" >0.3518</td>\n",
       "    </tr>\n",
       "    <tr>\n",
       "      <th id=\"T_c285d_level1_row6\" class=\"row_heading level1 row6\" >1</th>\n",
       "      <td id=\"T_c285d_row6_col0\" class=\"data row6 col0\" >0.6667</td>\n",
       "      <td id=\"T_c285d_row6_col1\" class=\"data row6 col1\" >0.6805</td>\n",
       "      <td id=\"T_c285d_row6_col2\" class=\"data row6 col2\" >0.8846</td>\n",
       "      <td id=\"T_c285d_row6_col3\" class=\"data row6 col3\" >0.6970</td>\n",
       "      <td id=\"T_c285d_row6_col4\" class=\"data row6 col4\" >0.7797</td>\n",
       "      <td id=\"T_c285d_row6_col5\" class=\"data row6 col5\" >0.1333</td>\n",
       "      <td id=\"T_c285d_row6_col6\" class=\"data row6 col6\" >0.1508</td>\n",
       "    </tr>\n",
       "    <tr>\n",
       "      <th id=\"T_c285d_level1_row7\" class=\"row_heading level1 row7\" >2</th>\n",
       "      <td id=\"T_c285d_row7_col0\" class=\"data row7 col0\" >0.6923</td>\n",
       "      <td id=\"T_c285d_row7_col1\" class=\"data row7 col1\" >0.6953</td>\n",
       "      <td id=\"T_c285d_row7_col2\" class=\"data row7 col2\" >0.8077</td>\n",
       "      <td id=\"T_c285d_row7_col3\" class=\"data row7 col3\" >0.7500</td>\n",
       "      <td id=\"T_c285d_row7_col4\" class=\"data row7 col4\" >0.7778</td>\n",
       "      <td id=\"T_c285d_row7_col5\" class=\"data row7 col5\" >0.2800</td>\n",
       "      <td id=\"T_c285d_row7_col6\" class=\"data row7 col6\" >0.2820</td>\n",
       "    </tr>\n",
       "    <tr>\n",
       "      <th id=\"T_c285d_level1_row8\" class=\"row_heading level1 row8\" >3</th>\n",
       "      <td id=\"T_c285d_row8_col0\" class=\"data row8 col0\" >0.6923</td>\n",
       "      <td id=\"T_c285d_row8_col1\" class=\"data row8 col1\" >0.7899</td>\n",
       "      <td id=\"T_c285d_row8_col2\" class=\"data row8 col2\" >0.9231</td>\n",
       "      <td id=\"T_c285d_row8_col3\" class=\"data row8 col3\" >0.7059</td>\n",
       "      <td id=\"T_c285d_row8_col4\" class=\"data row8 col4\" >0.8000</td>\n",
       "      <td id=\"T_c285d_row8_col5\" class=\"data row8 col5\" >0.1818</td>\n",
       "      <td id=\"T_c285d_row8_col6\" class=\"data row8 col6\" >0.2169</td>\n",
       "    </tr>\n",
       "    <tr>\n",
       "      <th id=\"T_c285d_level1_row9\" class=\"row_heading level1 row9\" >4</th>\n",
       "      <td id=\"T_c285d_row9_col0\" class=\"data row9 col0\" >0.6410</td>\n",
       "      <td id=\"T_c285d_row9_col1\" class=\"data row9 col1\" >0.5529</td>\n",
       "      <td id=\"T_c285d_row9_col2\" class=\"data row9 col2\" >0.8800</td>\n",
       "      <td id=\"T_c285d_row9_col3\" class=\"data row9 col3\" >0.6667</td>\n",
       "      <td id=\"T_c285d_row9_col4\" class=\"data row9 col4\" >0.7586</td>\n",
       "      <td id=\"T_c285d_row9_col5\" class=\"data row9 col5\" >0.1078</td>\n",
       "      <td id=\"T_c285d_row9_col6\" class=\"data row9 col6\" >0.1254</td>\n",
       "    </tr>\n",
       "    <tr>\n",
       "      <th id=\"T_c285d_level0_row10\" class=\"row_heading level0 row10\" rowspan=\"2\">CV-Train</th>\n",
       "      <th id=\"T_c285d_level1_row10\" class=\"row_heading level1 row10\" >Mean</th>\n",
       "      <td id=\"T_c285d_row10_col0\" class=\"data row10 col0\" >0.7130</td>\n",
       "      <td id=\"T_c285d_row10_col1\" class=\"data row10 col1\" >0.7120</td>\n",
       "      <td id=\"T_c285d_row10_col2\" class=\"data row10 col2\" >0.9031</td>\n",
       "      <td id=\"T_c285d_row10_col3\" class=\"data row10 col3\" >0.7272</td>\n",
       "      <td id=\"T_c285d_row10_col4\" class=\"data row10 col4\" >0.8056</td>\n",
       "      <td id=\"T_c285d_row10_col5\" class=\"data row10 col5\" >0.2813</td>\n",
       "      <td id=\"T_c285d_row10_col6\" class=\"data row10 col6\" >0.3065</td>\n",
       "    </tr>\n",
       "    <tr>\n",
       "      <th id=\"T_c285d_level1_row11\" class=\"row_heading level1 row11\" >Std</th>\n",
       "      <td id=\"T_c285d_row11_col0\" class=\"data row11 col0\" >0.0161</td>\n",
       "      <td id=\"T_c285d_row11_col1\" class=\"data row11 col1\" >0.0151</td>\n",
       "      <td id=\"T_c285d_row11_col2\" class=\"data row11 col2\" >0.0089</td>\n",
       "      <td id=\"T_c285d_row11_col3\" class=\"data row11 col3\" >0.0134</td>\n",
       "      <td id=\"T_c285d_row11_col4\" class=\"data row11 col4\" >0.0099</td>\n",
       "      <td id=\"T_c285d_row11_col5\" class=\"data row11 col5\" >0.0454</td>\n",
       "      <td id=\"T_c285d_row11_col6\" class=\"data row11 col6\" >0.0449</td>\n",
       "    </tr>\n",
       "    <tr>\n",
       "      <th id=\"T_c285d_level0_row12\" class=\"row_heading level0 row12\" rowspan=\"2\">CV-Val</th>\n",
       "      <th id=\"T_c285d_level1_row12\" class=\"row_heading level1 row12\" >Mean</th>\n",
       "      <td id=\"T_c285d_row12_col0\" class=\"data row12 col0\" >0.6835</td>\n",
       "      <td id=\"T_c285d_row12_col1\" class=\"data row12 col1\" >0.6778</td>\n",
       "      <td id=\"T_c285d_row12_col2\" class=\"data row12 col2\" >0.8837</td>\n",
       "      <td id=\"T_c285d_row12_col3\" class=\"data row12 col3\" >0.7094</td>\n",
       "      <td id=\"T_c285d_row12_col4\" class=\"data row12 col4\" >0.7859</td>\n",
       "      <td id=\"T_c285d_row12_col5\" class=\"data row12 col5\" >0.2040</td>\n",
       "      <td id=\"T_c285d_row12_col6\" class=\"data row12 col6\" >0.2254</td>\n",
       "    </tr>\n",
       "    <tr>\n",
       "      <th id=\"T_c285d_level1_row13\" class=\"row_heading level1 row13\" >Std</th>\n",
       "      <td id=\"T_c285d_row13_col0\" class=\"data row13 col0\" >0.0282</td>\n",
       "      <td id=\"T_c285d_row13_col1\" class=\"data row13 col1\" >0.0756</td>\n",
       "      <td id=\"T_c285d_row13_col2\" class=\"data row13 col2\" >0.0422</td>\n",
       "      <td id=\"T_c285d_row13_col3\" class=\"data row13 col3\" >0.0281</td>\n",
       "      <td id=\"T_c285d_row13_col4\" class=\"data row13 col4\" >0.0190</td>\n",
       "      <td id=\"T_c285d_row13_col5\" class=\"data row13 col5\" >0.0815</td>\n",
       "      <td id=\"T_c285d_row13_col6\" class=\"data row13 col6\" >0.0835</td>\n",
       "    </tr>\n",
       "    <tr>\n",
       "      <th id=\"T_c285d_level0_row14\" class=\"row_heading level0 row14\" >Train</th>\n",
       "      <th id=\"T_c285d_level1_row14\" class=\"row_heading level1 row14\" >nan</th>\n",
       "      <td id=\"T_c285d_row14_col0\" class=\"data row14 col0\" >0.7041</td>\n",
       "      <td id=\"T_c285d_row14_col1\" class=\"data row14 col1\" >0.7079</td>\n",
       "      <td id=\"T_c285d_row14_col2\" class=\"data row14 col2\" >0.8915</td>\n",
       "      <td id=\"T_c285d_row14_col3\" class=\"data row14 col3\" >0.7233</td>\n",
       "      <td id=\"T_c285d_row14_col4\" class=\"data row14 col4\" >0.7986</td>\n",
       "      <td id=\"T_c285d_row14_col5\" class=\"data row14 col5\" >0.2631</td>\n",
       "      <td id=\"T_c285d_row14_col6\" class=\"data row14 col6\" >0.2845</td>\n",
       "    </tr>\n",
       "  </tbody>\n",
       "</table>\n"
      ],
      "text/plain": [
       "<pandas.io.formats.style.Styler at 0x1bced7b34f0>"
      ]
     },
     "metadata": {},
     "output_type": "display_data"
    },
    {
     "data": {
      "application/vnd.jupyter.widget-view+json": {
       "model_id": "c80ee09bade94b7fb02833d2aaf518c1",
       "version_major": 2,
       "version_minor": 0
      },
      "text/plain": [
       "Processing:   0%|          | 0/6 [00:00<?, ?it/s]"
      ]
     },
     "metadata": {},
     "output_type": "display_data"
    }
   ],
   "source": [
    "ensembled2 = ensemble_model(model, fold=5, return_train_score=True, n_estimators=20, optimize='precision')"
   ]
  },
  {
   "cell_type": "code",
   "execution_count": 202,
   "metadata": {},
   "outputs": [
    {
     "data": {
      "text/html": [
       "<style>#sk-container-id-4 {color: black;background-color: white;}#sk-container-id-4 pre{padding: 0;}#sk-container-id-4 div.sk-toggleable {background-color: white;}#sk-container-id-4 label.sk-toggleable__label {cursor: pointer;display: block;width: 100%;margin-bottom: 0;padding: 0.3em;box-sizing: border-box;text-align: center;}#sk-container-id-4 label.sk-toggleable__label-arrow:before {content: \"▸\";float: left;margin-right: 0.25em;color: #696969;}#sk-container-id-4 label.sk-toggleable__label-arrow:hover:before {color: black;}#sk-container-id-4 div.sk-estimator:hover label.sk-toggleable__label-arrow:before {color: black;}#sk-container-id-4 div.sk-toggleable__content {max-height: 0;max-width: 0;overflow: hidden;text-align: left;background-color: #f0f8ff;}#sk-container-id-4 div.sk-toggleable__content pre {margin: 0.2em;color: black;border-radius: 0.25em;background-color: #f0f8ff;}#sk-container-id-4 input.sk-toggleable__control:checked~div.sk-toggleable__content {max-height: 200px;max-width: 100%;overflow: auto;}#sk-container-id-4 input.sk-toggleable__control:checked~label.sk-toggleable__label-arrow:before {content: \"▾\";}#sk-container-id-4 div.sk-estimator input.sk-toggleable__control:checked~label.sk-toggleable__label {background-color: #d4ebff;}#sk-container-id-4 div.sk-label input.sk-toggleable__control:checked~label.sk-toggleable__label {background-color: #d4ebff;}#sk-container-id-4 input.sk-hidden--visually {border: 0;clip: rect(1px 1px 1px 1px);clip: rect(1px, 1px, 1px, 1px);height: 1px;margin: -1px;overflow: hidden;padding: 0;position: absolute;width: 1px;}#sk-container-id-4 div.sk-estimator {font-family: monospace;background-color: #f0f8ff;border: 1px dotted black;border-radius: 0.25em;box-sizing: border-box;margin-bottom: 0.5em;}#sk-container-id-4 div.sk-estimator:hover {background-color: #d4ebff;}#sk-container-id-4 div.sk-parallel-item::after {content: \"\";width: 100%;border-bottom: 1px solid gray;flex-grow: 1;}#sk-container-id-4 div.sk-label:hover label.sk-toggleable__label {background-color: #d4ebff;}#sk-container-id-4 div.sk-serial::before {content: \"\";position: absolute;border-left: 1px solid gray;box-sizing: border-box;top: 0;bottom: 0;left: 50%;z-index: 0;}#sk-container-id-4 div.sk-serial {display: flex;flex-direction: column;align-items: center;background-color: white;padding-right: 0.2em;padding-left: 0.2em;position: relative;}#sk-container-id-4 div.sk-item {position: relative;z-index: 1;}#sk-container-id-4 div.sk-parallel {display: flex;align-items: stretch;justify-content: center;background-color: white;position: relative;}#sk-container-id-4 div.sk-item::before, #sk-container-id-4 div.sk-parallel-item::before {content: \"\";position: absolute;border-left: 1px solid gray;box-sizing: border-box;top: 0;bottom: 0;left: 50%;z-index: -1;}#sk-container-id-4 div.sk-parallel-item {display: flex;flex-direction: column;z-index: 1;position: relative;background-color: white;}#sk-container-id-4 div.sk-parallel-item:first-child::after {align-self: flex-end;width: 50%;}#sk-container-id-4 div.sk-parallel-item:last-child::after {align-self: flex-start;width: 50%;}#sk-container-id-4 div.sk-parallel-item:only-child::after {width: 0;}#sk-container-id-4 div.sk-dashed-wrapped {border: 1px dashed gray;margin: 0 0.4em 0.5em 0.4em;box-sizing: border-box;padding-bottom: 0.4em;background-color: white;}#sk-container-id-4 div.sk-label label {font-family: monospace;font-weight: bold;display: inline-block;line-height: 1.2em;}#sk-container-id-4 div.sk-label-container {text-align: center;}#sk-container-id-4 div.sk-container {/* jupyter's `normalize.less` sets `[hidden] { display: none; }` but bootstrap.min.css set `[hidden] { display: none !important; }` so we also need the `!important` here to be able to override the default hidden behavior on the sphinx rendered scikit-learn.org. See: https://github.com/scikit-learn/scikit-learn/issues/21755 */display: inline-block !important;position: relative;}#sk-container-id-4 div.sk-text-repr-fallback {display: none;}</style><div id=\"sk-container-id-4\" class=\"sk-top-container\"><div class=\"sk-text-repr-fallback\"><pre>BaggingClassifier(base_estimator=&#x27;deprecated&#x27;, bootstrap=True,\n",
       "                  bootstrap_features=False,\n",
       "                  estimator=LogisticRegression(C=1.0, class_weight=None,\n",
       "                                               dual=False, fit_intercept=True,\n",
       "                                               intercept_scaling=1,\n",
       "                                               l1_ratio=None, max_iter=1000,\n",
       "                                               multi_class=&#x27;auto&#x27;, n_jobs=None,\n",
       "                                               penalty=&#x27;l2&#x27;, random_state=2023,\n",
       "                                               solver=&#x27;lbfgs&#x27;, tol=0.0001,\n",
       "                                               verbose=0, warm_start=False),\n",
       "                  max_features=1.0, max_samples=1.0, n_estimators=20,\n",
       "                  n_jobs=None, oob_score=False, random_state=2023, verbose=0,\n",
       "                  warm_start=False)</pre><b>In a Jupyter environment, please rerun this cell to show the HTML representation or trust the notebook. <br />On GitHub, the HTML representation is unable to render, please try loading this page with nbviewer.org.</b></div><div class=\"sk-container\" hidden><div class=\"sk-item sk-dashed-wrapped\"><div class=\"sk-label-container\"><div class=\"sk-label sk-toggleable\"><input class=\"sk-toggleable__control sk-hidden--visually\" id=\"sk-estimator-id-6\" type=\"checkbox\" ><label for=\"sk-estimator-id-6\" class=\"sk-toggleable__label sk-toggleable__label-arrow\">BaggingClassifier</label><div class=\"sk-toggleable__content\"><pre>BaggingClassifier(base_estimator=&#x27;deprecated&#x27;, bootstrap=True,\n",
       "                  bootstrap_features=False,\n",
       "                  estimator=LogisticRegression(C=1.0, class_weight=None,\n",
       "                                               dual=False, fit_intercept=True,\n",
       "                                               intercept_scaling=1,\n",
       "                                               l1_ratio=None, max_iter=1000,\n",
       "                                               multi_class=&#x27;auto&#x27;, n_jobs=None,\n",
       "                                               penalty=&#x27;l2&#x27;, random_state=2023,\n",
       "                                               solver=&#x27;lbfgs&#x27;, tol=0.0001,\n",
       "                                               verbose=0, warm_start=False),\n",
       "                  max_features=1.0, max_samples=1.0, n_estimators=20,\n",
       "                  n_jobs=None, oob_score=False, random_state=2023, verbose=0,\n",
       "                  warm_start=False)</pre></div></div></div><div class=\"sk-parallel\"><div class=\"sk-parallel-item\"><div class=\"sk-item\"><div class=\"sk-label-container\"><div class=\"sk-label sk-toggleable\"><input class=\"sk-toggleable__control sk-hidden--visually\" id=\"sk-estimator-id-7\" type=\"checkbox\" ><label for=\"sk-estimator-id-7\" class=\"sk-toggleable__label sk-toggleable__label-arrow\">estimator: LogisticRegression</label><div class=\"sk-toggleable__content\"><pre>LogisticRegression(C=1.0, class_weight=None, dual=False, fit_intercept=True,\n",
       "                   intercept_scaling=1, l1_ratio=None, max_iter=1000,\n",
       "                   multi_class=&#x27;auto&#x27;, n_jobs=None, penalty=&#x27;l2&#x27;,\n",
       "                   random_state=2023, solver=&#x27;lbfgs&#x27;, tol=0.0001, verbose=0,\n",
       "                   warm_start=False)</pre></div></div></div><div class=\"sk-serial\"><div class=\"sk-item\"><div class=\"sk-estimator sk-toggleable\"><input class=\"sk-toggleable__control sk-hidden--visually\" id=\"sk-estimator-id-8\" type=\"checkbox\" ><label for=\"sk-estimator-id-8\" class=\"sk-toggleable__label sk-toggleable__label-arrow\">LogisticRegression</label><div class=\"sk-toggleable__content\"><pre>LogisticRegression(max_iter=1000, random_state=2023)</pre></div></div></div></div></div></div></div></div></div></div>"
      ],
      "text/plain": [
       "BaggingClassifier(base_estimator='deprecated', bootstrap=True,\n",
       "                  bootstrap_features=False,\n",
       "                  estimator=LogisticRegression(C=1.0, class_weight=None,\n",
       "                                               dual=False, fit_intercept=True,\n",
       "                                               intercept_scaling=1,\n",
       "                                               l1_ratio=None, max_iter=1000,\n",
       "                                               multi_class='auto', n_jobs=None,\n",
       "                                               penalty='l2', random_state=2023,\n",
       "                                               solver='lbfgs', tol=0.0001,\n",
       "                                               verbose=0, warm_start=False),\n",
       "                  max_features=1.0, max_samples=1.0, n_estimators=20,\n",
       "                  n_jobs=None, oob_score=False, random_state=2023, verbose=0,\n",
       "                  warm_start=False)"
      ]
     },
     "execution_count": 202,
     "metadata": {},
     "output_type": "execute_result"
    }
   ],
   "source": [
    "ensembled2"
   ]
  },
  {
   "cell_type": "code",
   "execution_count": 228,
   "metadata": {},
   "outputs": [
    {
     "name": "stdout",
     "output_type": "stream",
     "text": [
      "PL: 4.20 | ROI: 13.12% | Prec.: 0.91\n",
      "Odd média: 1.25\n",
      "Média Gain: 0.25 | Média Loss: -1.00\n",
      "EM: 0.14\n",
      "32 entradas em 196 jogos (16.33%)\n"
     ]
    },
    {
     "data": {
      "image/png": "[encoded data removed]",
      "text/plain": [
       "<Figure size 600x200 with 1 Axes>"
      ]
     },
     "metadata": {},
     "output_type": "display_data"
    }
   ],
   "source": [
    "df_treino = info_modelo(ensembled2, real_treino)"
   ]
  },
  {
   "cell_type": "code",
   "execution_count": 243,
   "metadata": {},
   "outputs": [
    {
     "name": "stdout",
     "output_type": "stream",
     "text": [
      "PL: 3.73 | ROI: 7.77% | Prec.: 0.88\n",
      "Odd média: 1.23\n",
      "Média Gain: 0.23 | Média Loss: -1.00\n",
      "EM: 0.08\n",
      "48 entradas em 295 jogos (16.27%)\n"
     ]
    },
    {
     "data": {
      "image/png": "[encoded data removed]",
      "text/plain": [
       "<Figure size 600x200 with 1 Axes>"
      ]
     },
     "metadata": {},
     "output_type": "display_data"
    }
   ],
   "source": [
    "df_teste = info_modelo(ensembled2, real_teste)"
   ]
  },
  {
   "cell_type": "code",
   "execution_count": 230,
   "metadata": {},
   "outputs": [
    {
     "name": "stdout",
     "output_type": "stream",
     "text": [
      "PL: 7.93 | ROI: 9.91% | Prec.: 0.89\n",
      "Odd média: 1.24\n",
      "Média Gain: 0.24 | Média Loss: -1.00\n",
      "EM: 0.10\n",
      "80 entradas em 491 jogos (16.29%)\n"
     ]
    },
    {
     "data": {
      "image/png": "[encoded data removed]",
      "text/plain": [
       "<Figure size 600x200 with 1 Axes>"
      ]
     },
     "metadata": {},
     "output_type": "display_data"
    }
   ],
   "source": [
    "df_comp = info_modelo(ensembled2, dataframe)"
   ]
  },
  {
   "cell_type": "code",
   "execution_count": 245,
   "metadata": {},
   "outputs": [],
   "source": [
    "df_teste.to_excel('teste.xlsx', index=True)"
   ]
  },
  {
   "cell_type": "code",
   "execution_count": 246,
   "metadata": {},
   "outputs": [
    {
     "name": "stdout",
     "output_type": "stream",
     "text": [
      "Transformation Pipeline and Model Successfully Saved\n"
     ]
    },
    {
     "data": {
      "text/plain": [
       "(Pipeline(memory=FastMemory(location=C:\\Users\\johnn\\AppData\\Local\\Temp\\joblib),\n",
       "          steps=[('numerical_imputer',\n",
       "                  TransformerWrapper(exclude=None,\n",
       "                                     include=['P(U)', 'Avg_CG_H',\n",
       "                                              'Acima_Last_CG_A', 'CV_ML',\n",
       "                                              'CV_Over'],\n",
       "                                     transformer=SimpleImputer(add_indicator=False,\n",
       "                                                               copy=True,\n",
       "                                                               fill_value=None,\n",
       "                                                               keep_empty_features=False,\n",
       "                                                               missing_values=nan,\n",
       "                                                               strategy='mean',\n",
       "                                                               verbose='deprec...\n",
       "                                                                 class_weight=None,\n",
       "                                                                 dual=False,\n",
       "                                                                 fit_intercept=True,\n",
       "                                                                 intercept_scaling=1,\n",
       "                                                                 l1_ratio=None,\n",
       "                                                                 max_iter=1000,\n",
       "                                                                 multi_class='auto',\n",
       "                                                                 n_jobs=None,\n",
       "                                                                 penalty='l2',\n",
       "                                                                 random_state=2023,\n",
       "                                                                 solver='lbfgs',\n",
       "                                                                 tol=0.0001,\n",
       "                                                                 verbose=0,\n",
       "                                                                 warm_start=False),\n",
       "                                    max_features=1.0, max_samples=1.0,\n",
       "                                    n_estimators=20, n_jobs=None,\n",
       "                                    oob_score=False, random_state=2023,\n",
       "                                    verbose=0, warm_start=False))],\n",
       "          verbose=False),\n",
       " 'back_fav_ens2.pkl')"
      ]
     },
     "execution_count": 246,
     "metadata": {},
     "output_type": "execute_result"
    }
   ],
   "source": [
    "save_model(ensembled2, 'back_fav_ens2')"
   ]
  },
  {
   "cell_type": "markdown",
   "metadata": {},
   "source": [
    "# Script variáveis"
   ]
  },
  {
   "cell_type": "code",
   "execution_count": 22,
   "metadata": {},
   "outputs": [],
   "source": [
    "colunas = ['Odds_H', 'Odds_A', 'Over_Line', 'Odds_Over', 'Odds_Under',\n",
    "       'HA_Line', 'HA_Odds_H', 'HA_Odds_A', 'P(H)', 'P(A)', 'P(O)', 'P(U)', 'P_Diff',\n",
    "       'Porc_Over_Home', 'Porc_Over_Away','Avg_CG_H', 'DP_CG_H', 'CV_CG_H', 'Avg_CG_A', 'DP_CG_A', 'CV_CG_A',\n",
    "       'Last_CG_H', 'Last_CG_A', 'Acima_Last_CG_H', 'Acima_Last_CG_A',\n",
    "       'Abaixo_Last_CG_H', 'Abaixo_Last_CG_A', 'CV_ML', 'CV_Over']"
   ]
  },
  {
   "cell_type": "code",
   "execution_count": 23,
   "metadata": {},
   "outputs": [],
   "source": [
    "import random\n",
    "\n",
    "def pegar_elementos_aleatorios(lista):\n",
    "    # Gerar um número aleatório entre 2 e 7\n",
    "    num_elementos = random.randint(2, 13)\n",
    "\n",
    "    # Garantir que o número de elementos não ultrapasse o tamanho da lista\n",
    "    num_elementos = min(num_elementos, len(lista))\n",
    "\n",
    "    # Selecionar elementos aleatórios da lista\n",
    "    elementos_aleatorios = random.sample(lista, num_elementos)\n",
    "\n",
    "    return elementos_aleatorios"
   ]
  },
  {
   "cell_type": "code",
   "execution_count": 28,
   "metadata": {},
   "outputs": [
    {
     "name": "stdout",
     "output_type": "stream",
     "text": [
      "**Novo melhor** PL: -17.91 | EM: -0.07 | Prec.: 0.6569 | Std: 0.0122\n",
      "Features: ['P(A)', 'Last_CG_H', 'HA_Odds_A', 'Odds_Over', 'DP_CG_H', 'CV_CG_H']\n",
      "\n",
      "**Novo melhor** PL: -17.71 | EM: -0.07 | Prec.: 0.6598 | Std: 0.0115\n",
      "Features: ['Porc_Over_Home', 'Abaixo_Last_CG_H', 'Avg_CG_A', 'P(U)']\n",
      "\n",
      "**Novo melhor** PL: -16.29 | EM: -0.07 | Prec.: 0.6772 | Std: 0.0176\n",
      "Features: ['CV_ML', 'HA_Odds_H', 'Avg_CG_A', 'Odds_A']\n",
      "\n",
      "**Novo melhor** PL: -19.45 | EM: -0.08 | Prec.: 0.6796 | Std: 0.0223\n",
      "Features: ['Odds_Over', 'P_Diff', 'CV_CG_A', 'Acima_Last_CG_A', 'Abaixo_Last_CG_H', 'CV_Over']\n",
      "\n",
      "**Novo melhor** PL: -13.62 | EM: -0.06 | Prec.: 0.6991 | Std: 0.0365\n",
      "Features: ['Odds_Under', 'CV_Over', 'CV_ML', 'Acima_Last_CG_A', 'P(U)', 'Abaixo_Last_CG_H', 'Avg_CG_H']\n",
      "\n"
     ]
    }
   ],
   "source": [
    "melhor_PL = -10000\n",
    "\n",
    "for i in range(30):\n",
    "    features = pegar_elementos_aleatorios(colunas)\n",
    "\n",
    "    cls = setup(data = dataframe,\n",
    "            ignore_features = [x for x in dataframe.columns.to_list() if x not in features and x != 'Back_Favorito'],\n",
    "            target = 'Back_Favorito',\n",
    "            train_size = 0.5,\n",
    "            normalize = True,\n",
    "            normalize_method = 'zscore',\n",
    "            session_id = 2023,\n",
    "            verbose = False\n",
    "            )\n",
    "    \n",
    "    model = create_model('lr', verbose = False, fold = 5)\n",
    "    tab = pull()\n",
    "    prec_model = (tab.loc['Mean', 'Prec.'])\n",
    "    dp_model = (tab.loc['Std', 'Prec.'])\n",
    "    pred = predict_model(model, verbose = False)\n",
    "    stake = 1\n",
    "\n",
    "    pred = pred.merge(dataframe['odds'], left_index=True, right_index=True, how='left')\n",
    "    if 'odds_x' in pred.columns.tolist():\n",
    "        pred.rename(columns={'odds_x': 'odds'}, inplace=True)\n",
    "        pred.drop(columns='odds_y', inplace=True)\n",
    "\n",
    "    total = pred.shape[0]\n",
    "\n",
    "    pred.loc[(pred['Back_Favorito'] == 0), 'PL_BF_Predictions'] = - stake\n",
    "    pred.loc[(pred['Back_Favorito'] == 1), 'PL_BF_Predictions'] = ((pred['odds']) - 1) * stake\n",
    "    \n",
    "    reserva = pred.copy()\n",
    "    pred = pred[(pred['prediction_label'] == 1)]\n",
    "\n",
    "    plb = pred['PL_BF_Predictions'].sum()\n",
    "    entradas = pred[pred['prediction_label'] == 1].shape[0]\n",
    "    wr = round((pred[pred['Back_Favorito'] == 1].shape[0] / entradas), 2)\n",
    "    oddback = pred['odds'].mean()\n",
    "    med_gain = pred[pred['Back_Favorito'] == 1]['PL_BF_Predictions'].mean()\n",
    "    med_loss = pred[pred['Back_Favorito'] == 0]['PL_BF_Predictions'].mean()\n",
    "    roi = plb / entradas\n",
    "    porc_ent = entradas / total\n",
    "    ev = (wr*stake*med_gain) + ((1-wr)*med_loss*stake)\n",
    "\n",
    "    if prec_model > melhor_PL:\n",
    "        best_model = model\n",
    "        melhor_PL = prec_model\n",
    "        print(f'**Novo melhor** PL: {plb:.2f} | EM: {ev:.2f} | Prec.: {prec_model:.4f} | Std: {dp_model:.4f}')\n",
    "        print(f'Features: {features}\\n')"
   ]
  }
 ],
 "metadata": {
  "kernelspec": {
   "display_name": "venv",
   "language": "python",
   "name": "python3"
  },
  "language_info": {
   "codemirror_mode": {
    "name": "ipython",
    "version": 3
   },
   "file_extension": ".py",
   "mimetype": "text/x-python",
   "name": "python",
   "nbconvert_exporter": "python",
   "pygments_lexer": "ipython3",
   "version": "3.10.7"
  },
  "orig_nbformat": 4
 },
 "nbformat": 4,
 "nbformat_minor": 2
}
